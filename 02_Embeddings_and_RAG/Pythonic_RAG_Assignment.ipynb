{
  "cells": [
    {
      "cell_type": "markdown",
      "metadata": {
        "id": "lElF3o5PR6ys"
      },
      "source": [
        "# Your First RAG Application\n",
        "\n",
        "In this notebook, we'll walk you through each of the components that are involved in a simple RAG application.\n",
        "\n",
        "We won't be leveraging any fancy tools, just the OpenAI Python SDK, Numpy, and some classic Python.\n",
        "\n",
        "> NOTE: This was done with Python 3.12.3.\n",
        "\n",
        "> NOTE: There might be [compatibility issues](https://github.com/wandb/wandb/issues/7683) if you're on NVIDIA driver >552.44 As an interim solution - you can rollback your drivers to the 552.44."
      ]
    },
    {
      "cell_type": "markdown",
      "metadata": {
        "id": "5CtcL8P8R6yt"
      },
      "source": [
        "## Table of Contents:\n",
        "\n",
        "- Task 1: Imports and Utilities\n",
        "- Task 2: Documents\n",
        "- Task 3: Embeddings and Vectors\n",
        "- Task 4: Prompts\n",
        "- Task 5: Retrieval Augmented Generation\n",
        "  - 🚧 Activity #1: Augment RAG"
      ]
    },
    {
      "cell_type": "markdown",
      "metadata": {
        "id": "1Dz6GYilR6yt"
      },
      "source": [
        "Let's look at a rather complicated looking visual representation of a basic RAG application.\n",
        "\n",
        "<img src=\"https://i.imgur.com/vD8b016.png\" />"
      ]
    },
    {
      "cell_type": "markdown",
      "metadata": {
        "id": "PjmC0KFtR6yt"
      },
      "source": [
        "## Task 1: Imports and Utility\n",
        "\n",
        "We're just doing some imports and enabling `async` to work within the Jupyter environment here, nothing too crazy!"
      ]
    },
    {
      "cell_type": "code",
      "execution_count": 16,
      "metadata": {
        "id": "Z1dyrG4hR6yt"
      },
      "outputs": [],
      "source": [
        "from aimakerspace.text_utils import CharacterTextSplitter, TextFileUtils\n",
        "from aimakerspace.vectordatabase import VectorDatabase\n",
        "import asyncio"
      ]
    },
    {
      "cell_type": "code",
      "execution_count": 17,
      "metadata": {
        "id": "9OrFZRnER6yt"
      },
      "outputs": [],
      "source": [
        "import nest_asyncio\n",
        "nest_asyncio.apply()"
      ]
    },
    {
      "cell_type": "markdown",
      "metadata": {
        "id": "M0jGnpQsR6yu"
      },
      "source": [
        "## Task 2: Documents\n",
        "\n",
        "We'll be concerning ourselves with this part of the flow in the following section:\n",
        "\n",
        "<img src=\"https://i.imgur.com/jTm9gjk.png\" />"
      ]
    },
    {
      "cell_type": "markdown",
      "metadata": {
        "id": "-SFPWvRUR6yu"
      },
      "source": [
        "### Loading Source Documents\n",
        "\n",
        "So, first things first, we need some documents to work with.\n",
        "\n",
        "While we could work directly with the `.txt` files (or whatever file-types you wanted to extend this to) we can instead do some batch processing of those documents at the beginning in order to store them in a more machine compatible format.\n",
        "\n",
        "In this case, we're going to parse our text file into a single document in memory.\n",
        "\n",
        "Let's look at the relevant bits of the `TextFileUtils` class:\n",
        "\n",
        "```python\n",
        "def load_file(self):\n",
        "        with open(self.path, \"r\", encoding=self.encoding) as f:\n",
        "            self.documents.append(f.read())\n",
        "```\n",
        "\n",
        "We're simply loading the document using the built in `open` method, and storing that output in our `self.documents` list.\n",
        "\n",
        "> NOTE: We're using blogs from PMarca (Marc Andreessen) as our sample data. This data is largely irrelevant as we want to focus on the mechanisms of RAG, which includes out data's shape and quality - but not specifically what the contents of the data are. \n"
      ]
    },
    {
      "cell_type": "code",
      "execution_count": 18,
      "metadata": {
        "colab": {
          "base_uri": "https://localhost:8080/"
        },
        "id": "Ia2sUEuGR6yu",
        "outputId": "84937ecc-c35f-4c4a-a4ab-9da72625954c"
      },
      "outputs": [
        {
          "data": {
            "text/plain": [
              "1"
            ]
          },
          "execution_count": 18,
          "metadata": {},
          "output_type": "execute_result"
        }
      ],
      "source": [
        "text_loader = TextFileUtils(\"data/PMarcaBlogs.txt\")\n",
        "documents = text_loader.load_documents()\n",
        "len(documents)"
      ]
    },
    {
      "cell_type": "code",
      "execution_count": 19,
      "metadata": {
        "colab": {
          "base_uri": "https://localhost:8080/"
        },
        "id": "bV-tj5WFR6yu",
        "outputId": "674eb315-1ff3-4597-bcf5-38ece0a812ac"
      },
      "outputs": [
        {
          "name": "stdout",
          "output_type": "stream",
          "text": [
            "\n",
            "The Pmarca Blog Archives\n",
            "(select posts from 2007-2009)\n",
            "Marc Andreessen\n",
            "copyright: Andreessen Horowitz\n",
            "cover design: Jessica Hagy\n",
            "produced using: Pressbooks\n",
            "Contents\n",
            "THE PMARCA GUIDE TO STARTUPS\n",
            "Part 1\n"
          ]
        }
      ],
      "source": [
        "print(documents[0][:202])"
      ]
    },
    {
      "cell_type": "markdown",
      "metadata": {
        "id": "nHlTvCzYR6yu"
      },
      "source": [
        "### Splitting Text Into Chunks\n",
        "\n",
        "As we can see, there is one massive document.\n",
        "\n",
        "We'll want to chunk the document into smaller parts so it's easier to pass the most relevant snippets to the LLM.\n",
        "\n",
        "There is no fixed way to split/chunk documents - and you'll need to rely on some intuition as well as knowing your data *very* well in order to build the most robust system.\n",
        "\n",
        "For this toy example, we'll just split blindly on length.\n",
        "\n",
        ">There's an opportunity to clear up some terminology here, for this course we will be stick to the following:\n",
        ">\n",
        ">- \"source documents\" : The `.txt`, `.pdf`, `.html`, ..., files that make up the files and information we start with in its raw format\n",
        ">- \"document(s)\" : single (or more) text object(s)\n",
        ">- \"corpus\" : the combination of all of our documents"
      ]
    },
    {
      "cell_type": "markdown",
      "metadata": {
        "id": "2G6Voc0jR6yv"
      },
      "source": [
        "As you can imagine (though it's not specifically true in this toy example) the idea of splitting documents is to break them into managable sized chunks that retain the most relevant local context."
      ]
    },
    {
      "cell_type": "code",
      "execution_count": 20,
      "metadata": {
        "colab": {
          "base_uri": "https://localhost:8080/"
        },
        "id": "UMC4tsEmR6yv",
        "outputId": "08689c0b-57cd-4040-942a-8193e997f5cb"
      },
      "outputs": [
        {
          "data": {
            "text/plain": [
              "373"
            ]
          },
          "execution_count": 20,
          "metadata": {},
          "output_type": "execute_result"
        }
      ],
      "source": [
        "text_splitter = CharacterTextSplitter()\n",
        "split_documents = text_splitter.split_texts(documents)\n",
        "len(split_documents)"
      ]
    },
    {
      "cell_type": "markdown",
      "metadata": {
        "id": "W2wKT0WLR6yv"
      },
      "source": [
        "Let's take a look at some of the documents we've managed to split."
      ]
    },
    {
      "cell_type": "code",
      "execution_count": 21,
      "metadata": {
        "colab": {
          "base_uri": "https://localhost:8080/"
        },
        "id": "vcYMwWJoR6yv",
        "outputId": "20d69876-feca-4826-b4be-32915276987a"
      },
      "outputs": [
        {
          "data": {
            "text/plain": [
              "['\\ufeff\\nThe Pmarca Blog Archives\\n(select posts from 2007-2009)\\nMarc Andreessen\\ncopyright: Andreessen Horowitz\\ncover design: Jessica Hagy\\nproduced using: Pressbooks\\nContents\\nTHE PMARCA GUIDE TO STARTUPS\\nPart 1: Why not to do a startup 2\\nPart 2: When the VCs say \"no\" 10\\nPart 3: \"But I don\\'t know any VCs!\" 18\\nPart 4: The only thing that matters 25\\nPart 5: The Moby Dick theory of big companies 33\\nPart 6: How much funding is too little? Too much? 41\\nPart 7: Why a startup\\'s initial business plan doesn\\'t\\nmatter that much\\n49\\nTHE PMARCA GUIDE TO HIRING\\nPart 8: Hiring, managing, promoting, and Dring\\nexecutives\\n54\\nPart 9: How to hire a professional CEO 68\\nHow to hire the best people you\\'ve ever worked\\nwith\\n69\\nTHE PMARCA GUIDE TO BIG COMPANIES\\nPart 1: Turnaround! 82\\nPart 2: Retaining great people 86\\nTHE PMARCA GUIDE TO CAREER, PRODUCTIVITY,\\nAND SOME OTHER THINGS\\nIntroduction 97\\nPart 1: Opportunity 99\\nPart 2: Skills and education 107\\nPart 3: Where to go and why 120\\nThe Pmarca Guide to Personal Productivi']"
            ]
          },
          "execution_count": 21,
          "metadata": {},
          "output_type": "execute_result"
        }
      ],
      "source": [
        "split_documents[0:1]"
      ]
    },
    {
      "cell_type": "markdown",
      "metadata": {
        "id": "HOU-RFP_R6yv"
      },
      "source": [
        "## Task 3: Embeddings and Vectors\n",
        "\n",
        "Next, we have to convert our corpus into a \"machine readable\" format as we explored in the Embedding Primer notebook.\n",
        "\n",
        "Today, we're going to talk about the actual process of creating, and then storing, these embeddings, and how we can leverage that to intelligently add context to our queries."
      ]
    },
    {
      "cell_type": "markdown",
      "metadata": {},
      "source": [
        "### OpenAI API Key\n",
        "\n",
        "In order to access OpenAI's APIs, we'll need to provide our OpenAI API Key!\n",
        "\n",
        "You can work through the folder \"OpenAI API Key Setup\" for more information on this process if you don't already have an API Key!"
      ]
    },
    {
      "cell_type": "code",
      "execution_count": 22,
      "metadata": {},
      "outputs": [],
      "source": [
        "import os\n",
        "import openai\n",
        "from getpass import getpass\n",
        "\n",
        "openai.api_key = getpass(\"OpenAI API Key: \")\n",
        "os.environ[\"OPENAI_API_KEY\"] = openai.api_key"
      ]
    },
    {
      "cell_type": "markdown",
      "metadata": {},
      "source": [
        "### Vector Database\n",
        "\n",
        "Let's set up our vector database to hold all our documents and their embeddings!"
      ]
    },
    {
      "cell_type": "markdown",
      "metadata": {
        "id": "kDQrfAR1R6yv"
      },
      "source": [
        "While this is all baked into 1 call - we can look at some of the code that powers this process to get a better understanding:\n",
        "\n",
        "Let's look at our `VectorDatabase().__init__()`:\n",
        "\n",
        "```python\n",
        "def __init__(self, embedding_model: EmbeddingModel = None):\n",
        "        self.vectors = defaultdict(np.array)\n",
        "        self.embedding_model = embedding_model or EmbeddingModel()\n",
        "```\n",
        "\n",
        "As you can see - our vectors are merely stored as a dictionary of `np.array` objects.\n",
        "\n",
        "Secondly, our `VectorDatabase()` has a default `EmbeddingModel()` which is a wrapper for OpenAI's `text-embedding-3-small` model.\n",
        "\n",
        "> **Quick Info About `text-embedding-3-small`**:\n",
        "> - It has a context window of **8191** tokens\n",
        "> - It returns vectors with dimension **1536**"
      ]
    },
    {
      "cell_type": "markdown",
      "metadata": {
        "id": "L273pRdeR6yv"
      },
      "source": [
        "#### ❓Question #1:\n",
        "\n",
        "The default embedding dimension of `text-embedding-3-small` is 1536, as noted above. \n",
        "\n",
        "1. Is there any way to modify this dimension?\n",
        "\n",
        "2. What technique does OpenAI use to achieve this?\n",
        "\n",
        "> NOTE: Check out this [API documentation](https://platform.openai.com/docs/api-reference/embeddings/create) for the answer to question #1.1, and [this documentation](https://platform.openai.com/docs/guides/embeddings/use-cases) for an answer to question #1.2!\n"
      ]
    },
    {
      "cell_type": "markdown",
      "metadata": {},
      "source": [
        "##### ✅ Answer:\n",
        "1. Yes, according to the [OpenAI's Embeddings guide](https://platform.openai.com/docs/guides/embeddings),\n",
        " > By default, the length of the embedding vector is 1536 for text-embedding-3-small or 3072 for text-embedding-3-large. To reduce the embedding's dimensions without losing its concept-representing properties, pass in the dimensions parameter.\n",
        "2. According to OpenAI's Embeddings guide,\n",
        "> OpenAI new embedding models were trained with a technique that allows developers to trade-off performance and cost of using embeddings. Specifically, developers can shorten embeddings (i.e. remove some numbers from the end of the sequence) without the embedding losing its concept-representing properties by passing in the dimensions API parameter.\n",
        "The techinique mentioned by the OpenAI Embeddings guide is know as the [**Matryoshka Representation Learning (MRL)**](https://arxiv.org/abs/2205.13147) which encodes information at different granularities and allows a single embedding to adapt to the computational constraints of downstream tasks. The MRL datasets and pretrained models are Open Sourced and available at https://github.com/RAIVNLab/MRL."
      ]
    },
    {
      "cell_type": "markdown",
      "metadata": {
        "id": "w5FZY7K3R6yv"
      },
      "source": [
        "We can call the `async_get_embeddings` method of our `EmbeddingModel()` on a list of `str` and receive a list of `float` back!\n",
        "\n",
        "```python\n",
        "async def async_get_embeddings(self, list_of_text: List[str]) -> List[List[float]]:\n",
        "        return await aget_embeddings(\n",
        "            list_of_text=list_of_text, engine=self.embeddings_model_name\n",
        "        )\n",
        "```"
      ]
    },
    {
      "cell_type": "markdown",
      "metadata": {
        "id": "cSct6X0aR6yv"
      },
      "source": [
        "We cast those to `np.array` when we build our `VectorDatabase()`:\n",
        "\n",
        "```python\n",
        "async def abuild_from_list(self, list_of_text: List[str]) -> \"VectorDatabase\":\n",
        "        embeddings = await self.embedding_model.async_get_embeddings(list_of_text)\n",
        "        for text, embedding in zip(list_of_text, embeddings):\n",
        "            self.insert(text, np.array(embedding))\n",
        "        return self\n",
        "```\n",
        "\n",
        "And that's all we need to do!"
      ]
    },
    {
      "cell_type": "code",
      "execution_count": 23,
      "metadata": {
        "id": "O4KoLbVDR6yv"
      },
      "outputs": [],
      "source": [
        "vector_db = VectorDatabase()\n",
        "vector_db = await vector_db.abuild_from_list(split_documents)"
      ]
    },
    {
      "cell_type": "markdown",
      "metadata": {
        "id": "SSZwaGvpR6yv"
      },
      "source": [
        "#### ❓Question #2:\n",
        "\n",
        "What are the benefits of using an `async` approach to collecting our embeddings?\n",
        "\n",
        "> NOTE: Determining the core difference between `async` and `sync` will be useful! If you get stuck - ask ChatGPT!"
      ]
    },
    {
      "cell_type": "markdown",
      "metadata": {},
      "source": [
        "##### ✅ Answer:\n",
        "The `async` keyword is used to define **asynchronous** functions in Python. When called, an async function returns a coroutine object, which can be **executed without blocking the caller**. Instead of running in a separate thread or process, async functions run within the same thread but cooperate with an event loop, allowing other tasks to run while waiting for slow operations (like network requests or file I/O) to complete. This makes asynchronous programming ideal for I/O-bound tasks, where waiting does not consume CPU unnecessarily."
      ]
    },
    {
      "cell_type": "markdown",
      "metadata": {
        "id": "nRBdIt-xR6yw"
      },
      "source": [
        "So, to review what we've done so far in natural language:\n",
        "\n",
        "1. We load source documents\n",
        "2. We split those source documents into smaller chunks (documents)\n",
        "3. We send each of those documents to the `text-embedding-3-small` OpenAI API endpoint\n",
        "4. We store each of the text representations with the vector representations as keys/values in a dictionary"
      ]
    },
    {
      "cell_type": "markdown",
      "metadata": {
        "id": "4-vWANZyR6yw"
      },
      "source": [
        "### Semantic Similarity\n",
        "\n",
        "The next step is to be able to query our `VectorDatabase()` with a `str` and have it return to us vectors and text that is most relevant from our corpus.\n",
        "\n",
        "We're going to use the following process to achieve this in our toy example:\n",
        "\n",
        "1. We need to embed our query with the same `EmbeddingModel()` as we used to construct our `VectorDatabase()`\n",
        "2. We loop through every vector in our `VectorDatabase()` and use a distance measure to compare how related they are\n",
        "3. We return a list of the top `k` closest vectors, with their text representations\n",
        "\n",
        "There's some very heavy optimization that can be done at each of these steps - but let's just focus on the basic pattern in this notebook.\n",
        "\n",
        "> We are using [cosine similarity](https://www.engati.com/glossary/cosine-similarity) as a distance metric in this example - but there are many many distance metrics you could use - like [these](https://flavien-vidal.medium.com/similarity-distances-for-natural-language-processing-16f63cd5ba55)\n",
        "\n",
        "> We are using a rather inefficient way of calculating relative distance between the query vector and all other vectors - there are more advanced approaches that are much more efficient, like [ANN](https://towardsdatascience.com/comprehensive-guide-to-approximate-nearest-neighbors-algorithms-8b94f057d6b6)"
      ]
    },
    {
      "cell_type": "markdown",
      "metadata": {},
      "source": [
        "#### using the default Cosine Similarity as the verctor distance measurement"
      ]
    },
    {
      "cell_type": "code",
      "execution_count": 24,
      "metadata": {
        "colab": {
          "base_uri": "https://localhost:8080/"
        },
        "id": "76d96uavR6yw",
        "outputId": "bbfccc31-20a2-41c7-c14d-46554a43ed2d"
      },
      "outputs": [
        {
          "data": {
            "text/plain": [
              "[('ordingly.\\nSeventh, when hiring the executive to run your former specialty, be\\ncareful you don’t hire someone weak on purpose.\\nThis sounds silly, but you wouldn’t believe how oaen it happens.\\nThe CEO who used to be a product manager who has a weak\\nproduct management executive. The CEO who used to be in\\nsales who has a weak sales executive. The CEO who used to be\\nin marketing who has a weak marketing executive.\\nI call this the “Michael Eisner Memorial Weak Executive Problem” — aaer the CEO of Disney who had previously been a brilliant TV network executive. When he bought ABC at Disney, it\\npromptly fell to fourth place. His response? “If I had an extra\\ntwo days a week, I could turn around ABC myself.” Well, guess\\nwhat, he didn’t have an extra two days a week.\\nA CEO — or a startup founder — oaen has a hard time letting\\ngo of the function that brought him to the party. The result: you\\nhire someone weak into the executive role for that function so\\nthat you can continue to be “the man” — cons',\n",
              "  np.float64(0.6537870351453307)),\n",
              " ('m. They have areas where they are truly deXcient in judgment or skill set. That’s just life. Almost nobody is brilliant\\nat everything. When hiring and when Hring executives, you\\nmust therefore focus on strength rather than lack of weakness. Everybody has severe weaknesses even if you can’t see\\nthem yet. When managing, it’s oaen useful to micromanage and\\nto provide remedial training around these weaknesses. Doing so\\nmay make the diWerence between an executive succeeding or\\nfailing.\\nFor example, you might have a brilliant engineering executive\\nwho generates excellent team loyalty, has terriXc product judgment and makes the trains run on time. This same executive\\nmay be very poor at relating to the other functions in the company. She may generate far more than her share of cross-functional conYicts, cut herself oW from critical information, and\\nsigniXcantly impede your ability to sell and market eWectively.\\nYour alternatives are:\\n(a) Macro-manage and give her an annual or quarterly object',\n",
              "  np.float64(0.50351940859483)),\n",
              " ('ed?\\nIn reality — as opposed to Marc’s warped view of reality — it will\\nbe extremely helpful for Marc [if he were actually the CEO,\\nwhich he is not] to meet with the new head of engineering daily\\nwhen she comes on board and review all of her thinking and\\ndecisions. This level of micromanagement will accelerate her\\ntraining and improve her long-term eWectiveness. It will make\\nher seem smarter to the rest of the organization which will build\\ncredibility and conXdence while she comes up to speed. Micromanaging new executives is generally a good idea for a limited\\nperiod of time.\\nHowever, that is not the only time that it makes sense to micro66 The Pmarca Blog Archives\\nmanage executives. It turns out that just about every executive\\nin the world has a few things that are seriously wrong with\\nthem. They have areas where they are truly deXcient in judgment or skill set. That’s just life. Almost nobody is brilliant\\nat everything. When hiring and when Hring executives, you\\nmust therefore focus o',\n",
              "  np.float64(0.4813834089228087))]"
            ]
          },
          "execution_count": 24,
          "metadata": {},
          "output_type": "execute_result"
        }
      ],
      "source": [
        "vector_db.search_by_text(\"What is the Michael Eisner Memorial Weak Executive Problem?\", k=3)"
      ]
    },
    {
      "cell_type": "markdown",
      "metadata": {},
      "source": [
        "#### using a different distance measurment"
      ]
    },
    {
      "cell_type": "code",
      "execution_count": 25,
      "metadata": {},
      "outputs": [
        {
          "data": {
            "text/plain": [
              "[('ordingly.\\nSeventh, when hiring the executive to run your former specialty, be\\ncareful you don’t hire someone weak on purpose.\\nThis sounds silly, but you wouldn’t believe how oaen it happens.\\nThe CEO who used to be a product manager who has a weak\\nproduct management executive. The CEO who used to be in\\nsales who has a weak sales executive. The CEO who used to be\\nin marketing who has a weak marketing executive.\\nI call this the “Michael Eisner Memorial Weak Executive Problem” — aaer the CEO of Disney who had previously been a brilliant TV network executive. When he bought ABC at Disney, it\\npromptly fell to fourth place. His response? “If I had an extra\\ntwo days a week, I could turn around ABC myself.” Well, guess\\nwhat, he didn’t have an extra two days a week.\\nA CEO — or a startup founder — oaen has a hard time letting\\ngo of the function that brought him to the party. The result: you\\nhire someone weak into the executive role for that function so\\nthat you can continue to be “the man” — cons',\n",
              "  np.float64(0.8320380385495636)),\n",
              " ('m. They have areas where they are truly deXcient in judgment or skill set. That’s just life. Almost nobody is brilliant\\nat everything. When hiring and when Hring executives, you\\nmust therefore focus on strength rather than lack of weakness. Everybody has severe weaknesses even if you can’t see\\nthem yet. When managing, it’s oaen useful to micromanage and\\nto provide remedial training around these weaknesses. Doing so\\nmay make the diWerence between an executive succeeding or\\nfailing.\\nFor example, you might have a brilliant engineering executive\\nwho generates excellent team loyalty, has terriXc product judgment and makes the trains run on time. This same executive\\nmay be very poor at relating to the other functions in the company. She may generate far more than her share of cross-functional conYicts, cut herself oW from critical information, and\\nsigniXcantly impede your ability to sell and market eWectively.\\nYour alternatives are:\\n(a) Macro-manage and give her an annual or quarterly object',\n",
              "  np.float64(0.9963923299223593)),\n",
              " ('ed?\\nIn reality — as opposed to Marc’s warped view of reality — it will\\nbe extremely helpful for Marc [if he were actually the CEO,\\nwhich he is not] to meet with the new head of engineering daily\\nwhen she comes on board and review all of her thinking and\\ndecisions. This level of micromanagement will accelerate her\\ntraining and improve her long-term eWectiveness. It will make\\nher seem smarter to the rest of the organization which will build\\ncredibility and conXdence while she comes up to speed. Micromanaging new executives is generally a good idea for a limited\\nperiod of time.\\nHowever, that is not the only time that it makes sense to micro66 The Pmarca Blog Archives\\nmanage executives. It turns out that just about every executive\\nin the world has a few things that are seriously wrong with\\nthem. They have areas where they are truly deXcient in judgment or skill set. That’s just life. Almost nobody is brilliant\\nat everything. When hiring and when Hring executives, you\\nmust therefore focus o',\n",
              "  np.float64(1.0184201240604691))]"
            ]
          },
          "execution_count": 25,
          "metadata": {},
          "output_type": "execute_result"
        }
      ],
      "source": [
        "from aimakerspace.vectordatabase import DistanceMeasure\n",
        "vector_db.search_by_text(\n",
        "    \"What is the Michael Eisner Memorial Weak Executive Problem?\", \n",
        "    k=3, \n",
        "    distance_measure=DistanceMeasure.EUCLIDEAN)"
      ]
    },
    {
      "cell_type": "markdown",
      "metadata": {
        "id": "TehsfIiKR6yw"
      },
      "source": [
        "## Task 4: Prompts\n",
        "\n",
        "In the following section, we'll be looking at the role of prompts - and how they help us to guide our application in the right direction.\n",
        "\n",
        "In this notebook, we're going to rely on the idea of \"zero-shot in-context learning\".\n",
        "\n",
        "This is a lot of words to say: \"We will ask it to perform our desired task in the prompt, and provide no examples.\""
      ]
    },
    {
      "cell_type": "markdown",
      "metadata": {
        "id": "yXpA0UveR6yw"
      },
      "source": [
        "### XYZRolePrompt\n",
        "\n",
        "Before we do that, let's stop and think a bit about how OpenAI's chat models work.\n",
        "\n",
        "We know they have roles - as is indicated in the following API [documentation](https://platform.openai.com/docs/api-reference/chat/create#chat/create-messages)\n",
        "\n",
        "There are three roles, and they function as follows (taken directly from [OpenAI](https://platform.openai.com/docs/guides/gpt/chat-completions-api)):\n",
        "\n",
        "- `{\"role\" : \"system\"}` : The system message helps set the behavior of the assistant. For example, you can modify the personality of the assistant or provide specific instructions about how it should behave throughout the conversation. However note that the system message is optional and the model’s behavior without a system message is likely to be similar to using a generic message such as \"You are a helpful assistant.\"\n",
        "- `{\"role\" : \"user\"}` : The user messages provide requests or comments for the assistant to respond to.\n",
        "- `{\"role\" : \"assistant\"}` : Assistant messages store previous assistant responses, but can also be written by you to give examples of desired behavior.\n",
        "\n",
        "The main idea is this:\n",
        "\n",
        "1. You start with a system message that outlines how the LLM should respond, what kind of behaviours you can expect from it, and more\n",
        "2. Then, you can provide a few examples in the form of \"assistant\"/\"user\" pairs\n",
        "3. Then, you prompt the model with the true \"user\" message.\n",
        "\n",
        "In this example, we'll be forgoing the 2nd step for simplicities sake."
      ]
    },
    {
      "cell_type": "markdown",
      "metadata": {
        "id": "gdZ2KWKSR6yw"
      },
      "source": [
        "#### Utility Functions\n",
        "\n",
        "You'll notice that we're using some utility functions from the `aimakerspace` module - let's take a peek at these and see what they're doing!"
      ]
    },
    {
      "cell_type": "markdown",
      "metadata": {
        "id": "GFbeJDDsR6yw"
      },
      "source": [
        "##### XYZRolePrompt"
      ]
    },
    {
      "cell_type": "markdown",
      "metadata": {
        "id": "5mojJSE3R6yw"
      },
      "source": [
        "Here we have our `system`, `user`, and `assistant` role prompts.\n",
        "\n",
        "Let's take a peek at what they look like:\n",
        "\n",
        "```python\n",
        "class BasePrompt:\n",
        "    def __init__(self, prompt):\n",
        "        \"\"\"\n",
        "        Initializes the BasePrompt object with a prompt template.\n",
        "\n",
        "        :param prompt: A string that can contain placeholders within curly braces\n",
        "        \"\"\"\n",
        "        self.prompt = prompt\n",
        "        self._pattern = re.compile(r\"\\{([^}]+)\\}\")\n",
        "\n",
        "    def format_prompt(self, **kwargs):\n",
        "        \"\"\"\n",
        "        Formats the prompt string using the keyword arguments provided.\n",
        "\n",
        "        :param kwargs: The values to substitute into the prompt string\n",
        "        :return: The formatted prompt string\n",
        "        \"\"\"\n",
        "        matches = self._pattern.findall(self.prompt)\n",
        "        return self.prompt.format(**{match: kwargs.get(match, \"\") for match in matches})\n",
        "\n",
        "    def get_input_variables(self):\n",
        "        \"\"\"\n",
        "        Gets the list of input variable names from the prompt string.\n",
        "\n",
        "        :return: List of input variable names\n",
        "        \"\"\"\n",
        "        return self._pattern.findall(self.prompt)\n",
        "```\n",
        "\n",
        "Then we have our `RolePrompt` which laser focuses us on the role pattern found in most API endpoints for LLMs.\n",
        "\n",
        "```python\n",
        "class RolePrompt(BasePrompt):\n",
        "    def __init__(self, prompt, role: str):\n",
        "        \"\"\"\n",
        "        Initializes the RolePrompt object with a prompt template and a role.\n",
        "\n",
        "        :param prompt: A string that can contain placeholders within curly braces\n",
        "        :param role: The role for the message ('system', 'user', or 'assistant')\n",
        "        \"\"\"\n",
        "        super().__init__(prompt)\n",
        "        self.role = role\n",
        "\n",
        "    def create_message(self, **kwargs):\n",
        "        \"\"\"\n",
        "        Creates a message dictionary with a role and a formatted message.\n",
        "\n",
        "        :param kwargs: The values to substitute into the prompt string\n",
        "        :return: Dictionary containing the role and the formatted message\n",
        "        \"\"\"\n",
        "        return {\"role\": self.role, \"content\": self.format_prompt(**kwargs)}\n",
        "```\n",
        "\n",
        "We'll look at how the `SystemRolePrompt` is constructed to get a better idea of how that extension works:\n",
        "\n",
        "```python\n",
        "class SystemRolePrompt(RolePrompt):\n",
        "    def __init__(self, prompt: str):\n",
        "        super().__init__(prompt, \"system\")\n",
        "```\n",
        "\n",
        "That pattern is repeated for our `UserRolePrompt` and our `AssistantRolePrompt` as well."
      ]
    },
    {
      "cell_type": "markdown",
      "metadata": {
        "id": "D361R6sMR6yw"
      },
      "source": [
        "##### ChatOpenAI"
      ]
    },
    {
      "cell_type": "markdown",
      "metadata": {
        "id": "HJVQ2Pm8R6yw"
      },
      "source": [
        "Next we have our model, which is converted to a format analagous to libraries like LangChain and LlamaIndex.\n",
        "\n",
        "Let's take a peek at how that is constructed:\n",
        "\n",
        "```python\n",
        "class ChatOpenAI:\n",
        "    def __init__(self, model_name: str = \"gpt-4.1-mini\"):\n",
        "        self.model_name = model_name\n",
        "        self.openai_api_key = os.getenv(\"OPENAI_API_KEY\")\n",
        "        if self.openai_api_key is None:\n",
        "            raise ValueError(\"OPENAI_API_KEY is not set\")\n",
        "\n",
        "    def run(self, messages, text_only: bool = True):\n",
        "        if not isinstance(messages, list):\n",
        "            raise ValueError(\"messages must be a list\")\n",
        "\n",
        "        openai.api_key = self.openai_api_key\n",
        "        response = openai.ChatCompletion.create(\n",
        "            model=self.model_name, messages=messages\n",
        "        )\n",
        "\n",
        "        if text_only:\n",
        "            return response.choices[0].message.content\n",
        "\n",
        "        return response\n",
        "```"
      ]
    },
    {
      "cell_type": "markdown",
      "metadata": {
        "id": "qCU7FfhIR6yw"
      },
      "source": [
        "#### ❓ Question #3:\n",
        "\n",
        "When calling the OpenAI API - are there any ways we can achieve more reproducible outputs?\n",
        "\n",
        "> NOTE: Check out [this section](https://platform.openai.com/docs/guides/text-generation/) of the OpenAI documentation for the answer!"
      ]
    },
    {
      "cell_type": "markdown",
      "metadata": {},
      "source": [
        "##### ✅ Answer:\n",
        "The documentation makes a couple of recommendations to get good results \"consistently\".\n",
        " * Prefer to use the new Responses API, especially if using Reasoning Models or building text generation apps.\n",
        " * Use **Message roles and instruction following**\n",
        " > You can provide instructions to the model with differing levels of authority using the instructions API parameter along with message roles.\n",
        " > The instructions parameter gives the model high-level instructions on how it should behave while generating a response, including tone, goals, and examples of correct responses. Any instructions provided this way will take priority over a prompt in the input parameter.\n",
        " * Use of [Reusable prompts](https://platform.openai.com/docs/guides/text?prompt-templates-examples=simple#reusable-prompts)"
      ]
    },
    {
      "cell_type": "markdown",
      "metadata": {
        "id": "c5wcjMLCR6yw"
      },
      "source": [
        "### Creating and Prompting OpenAI's `gpt-4.1-mini`!\n",
        "\n",
        "Let's tie all these together and use it to prompt `gpt-4.1-mini`!"
      ]
    },
    {
      "cell_type": "code",
      "execution_count": 26,
      "metadata": {
        "id": "WIfpIot7R6yw"
      },
      "outputs": [],
      "source": [
        "from aimakerspace.openai_utils.prompts import (\n",
        "    UserRolePrompt,\n",
        "    SystemRolePrompt,\n",
        "    AssistantRolePrompt,\n",
        ")\n",
        "\n",
        "from aimakerspace.openai_utils.chatmodel import ChatOpenAI\n",
        "\n",
        "chat_openai = ChatOpenAI()\n",
        "user_prompt_template = \"{content}\"\n",
        "user_role_prompt = UserRolePrompt(user_prompt_template)\n",
        "system_prompt_template = (\n",
        "    \"You are an expert in {expertise}, you always answer in a kind way.\"\n",
        ")\n",
        "system_role_prompt = SystemRolePrompt(system_prompt_template)\n",
        "\n",
        "messages = [\n",
        "    system_role_prompt.create_message(expertise=\"Python\"),\n",
        "    user_role_prompt.create_message(\n",
        "        content=\"What is the best way to write a loop?\"\n",
        "    ),\n",
        "]\n",
        "\n",
        "response = chat_openai.run(messages)"
      ]
    },
    {
      "cell_type": "code",
      "execution_count": 27,
      "metadata": {
        "colab": {
          "base_uri": "https://localhost:8080/"
        },
        "id": "dHo7lssNR6yw",
        "outputId": "1d3823fa-bb6b-45f6-ddba-b41686388324"
      },
      "outputs": [
        {
          "name": "stdout",
          "output_type": "stream",
          "text": [
            "Hello! The best way to write a loop in Python depends on what you want to achieve. Generally, Python offers a couple of common loop constructs:\n",
            "\n",
            "1. **`for` loop:** Best when you want to iterate over a sequence (like a list, tuple, string, or range of numbers).\n",
            "\n",
            "```python\n",
            "for item in iterable:\n",
            "    # do something with item\n",
            "```\n",
            "\n",
            "Example:\n",
            "\n",
            "```python\n",
            "for i in range(5):\n",
            "    print(i)\n",
            "```\n",
            "\n",
            "2. **`while` loop:** Best when you want to repeat something as long as a condition is true.\n",
            "\n",
            "```python\n",
            "while condition:\n",
            "    # do something\n",
            "```\n",
            "\n",
            "Example:\n",
            "\n",
            "```python\n",
            "count = 0\n",
            "while count < 5:\n",
            "    print(count)\n",
            "    count += 1\n",
            "```\n",
            "\n",
            "For readability and Pythonic style, the `for` loop is often preferred when possible, especially when iterating over a fixed sequence or range. Using meaningful variable names and keeping the loop body clear also makes your loop \"best\" in practice.\n",
            "\n",
            "If you have a specific task or scenario in mind, I’d be happy to help craft the most suitable loop for it! 😊\n"
          ]
        }
      ],
      "source": [
        "print(response)"
      ]
    },
    {
      "cell_type": "markdown",
      "metadata": {
        "id": "r2nxxhB2R6yy"
      },
      "source": [
        "## Task 5: Retrieval Augmented Generation\n",
        "\n",
        "Now we can create a RAG prompt - which will help our system behave in a way that makes sense!\n",
        "\n",
        "There is much you could do here, many tweaks and improvements to be made!"
      ]
    },
    {
      "cell_type": "code",
      "execution_count": 28,
      "metadata": {
        "id": "D1hamzGaR6yy"
      },
      "outputs": [],
      "source": [
        "RAG_SYSTEM_TEMPLATE = \"\"\"You are a knowledgeable assistant that answers questions based strictly on provided context.\n",
        "\n",
        "Instructions:\n",
        "- Only answer questions using information from the provided context\n",
        "- If the context doesn't contain relevant information, respond with \"I don't know\"\n",
        "- Be accurate and cite specific parts of the context when possible\n",
        "- Keep responses {response_style} and {response_length}\n",
        "- Only use the provided context. Do not use external knowledge.\n",
        "- Only provide answers when you are confident the context supports your response.\"\"\"\n",
        "\n",
        "RAG_USER_TEMPLATE = \"\"\"Context Information:\n",
        "{context}\n",
        "\n",
        "Number of relevant sources found: {context_count}\n",
        "{similarity_scores}\n",
        "\n",
        "Question: {user_query}\n",
        "\n",
        "Please provide your answer based solely on the context above.\"\"\"\n",
        "\n",
        "rag_system_prompt = SystemRolePrompt(\n",
        "    RAG_SYSTEM_TEMPLATE,\n",
        "    strict=True,\n",
        "    defaults={\n",
        "        \"response_style\": \"concise\",\n",
        "        \"response_length\": \"brief\"\n",
        "    }\n",
        ")\n",
        "\n",
        "rag_user_prompt = UserRolePrompt(\n",
        "    RAG_USER_TEMPLATE,\n",
        "    strict=True,\n",
        "    defaults={\n",
        "        \"context_count\": \"\",\n",
        "        \"similarity_scores\": \"\"\n",
        "    }\n",
        ")"
      ]
    },
    {
      "cell_type": "markdown",
      "metadata": {},
      "source": [
        "Now we can create our pipeline!"
      ]
    },
    {
      "cell_type": "code",
      "execution_count": 39,
      "metadata": {},
      "outputs": [],
      "source": [
        "import pprint\n",
        "class RetrievalAugmentedQAPipeline:\n",
        "    def __init__(self, llm: ChatOpenAI, vector_db_retriever: VectorDatabase, \n",
        "                 search_with_metadata: bool = False, response_style: str = \"detailed\", \n",
        "                 include_scores: bool = False) -> None:\n",
        "        self.llm = llm\n",
        "        self.vector_db_retriever = vector_db_retriever\n",
        "        self.search_with_metadata = search_with_metadata\n",
        "        self.response_style = response_style\n",
        "        self.include_scores = include_scores\n",
        "\n",
        "    def run_pipeline(self, user_query: str, k: int = 4, **system_kwargs) -> dict:\n",
        "        # Retrieve relevant contexts\n",
        "        if self.search_with_metadata:\n",
        "            context_list = self.vector_db_retriever.search_with_metadata(user_query, k=k)\n",
        "        else:\n",
        "            context_list = self.vector_db_retriever.search_by_text(user_query, k=k)\n",
        "        \n",
        "        context_prompt = \"\"\n",
        "        similarity_scores = []\n",
        "        \n",
        "        for i, result in enumerate(context_list, 1):\n",
        "            if self.search_with_metadata:\n",
        "                # When using metadata, result is a dictionary\n",
        "                context = result.get('text', result.get('key', ''))\n",
        "                score = result.get('similarity_score', 0.0)\n",
        "            else:\n",
        "                # When not using metadata, result is a tuple (context, score)\n",
        "                context, score = result\n",
        "            \n",
        "            context_prompt += f\"[Source {i}]: {context}\\n\\n\"\n",
        "            similarity_scores.append(f\"Source {i}: {score:.3f}\")\n",
        "        \n",
        "        # Create system message with parameters\n",
        "        system_params = {\n",
        "            \"response_style\": self.response_style,\n",
        "            \"response_length\": system_kwargs.get(\"response_length\", \"detailed\")\n",
        "        }\n",
        "        \n",
        "        formatted_system_prompt = rag_system_prompt.create_message(**system_params)\n",
        "        # pprint.pprint({\"Formated RAG System Prompt\": formatted_system_prompt})\n",
        "\n",
        "        user_params = {\n",
        "            \"user_query\": user_query,\n",
        "            \"context\": context_prompt.strip(),\n",
        "            \"context_count\": len(context_list),\n",
        "            \"similarity_scores\": f\"Relevance scores: {', '.join(similarity_scores)}\" if self.include_scores else \"\"\n",
        "        }\n",
        "        \n",
        "        formatted_user_prompt = rag_user_prompt.create_message(**user_params)\n",
        "        # pprint.pprint({\"Formated RAG User Prompt\": formatted_user_prompt})\n",
        "\n",
        "        return {\n",
        "            \"response\": self.llm.run([formatted_system_prompt, formatted_user_prompt]), \n",
        "            \"context\": context_list,\n",
        "            \"context_count\": len(context_list),\n",
        "            \"similarity_scores\": similarity_scores if self.include_scores else None,\n",
        "            \"prompts_used\": {\n",
        "                \"system\": formatted_system_prompt,\n",
        "                \"user\": formatted_user_prompt\n",
        "            }\n",
        "        }"
      ]
    },
    {
      "cell_type": "code",
      "execution_count": 30,
      "metadata": {},
      "outputs": [
        {
          "name": "stdout",
          "output_type": "stream",
          "text": [
            "Response: The \"Michael Eisner Memorial Weak Executive Problem\" refers to a common issue where a CEO or startup founder, who previously excelled in a particular function (e.g., product management, sales, marketing), ends up hiring a weak executive to run that same function. This happens because the CEO has a hard time letting go of the function that originally brought them success, and as a result, they hire someone weak in that role to maintain their own dominance or control over it. The name comes from Michael Eisner, the former CEO of Disney, who had been a brilliant TV network executive. When he acquired ABC at Disney, ABC quickly fell to fourth place. Eisner claimed that if he had an extra two days a week, he could have turned ABC around himself. However, he did not have that time, illustrating the problem that the CEO cannot simply continue to personally manage what they used to do best and that hiring weak executives in that role is detrimental. (Source 1)\n",
            "\n",
            "Context Count: 3\n",
            "Similarity Scores: ['Source 1: 0.658', 'Source 2: 0.509', 'Source 3: 0.479']\n"
          ]
        }
      ],
      "source": [
        "rag_pipeline = RetrievalAugmentedQAPipeline(\n",
        "    vector_db_retriever=vector_db,\n",
        "    llm=chat_openai,\n",
        "    response_style=\"detailed\",\n",
        "    include_scores=True\n",
        ")\n",
        "\n",
        "result = rag_pipeline.run_pipeline(\n",
        "    \"What is the 'Michael Eisner Memorial Weak Executive Problem'?\",\n",
        "    k=3,\n",
        "    response_length=\"comprehensive\", \n",
        "    include_warnings=True,\n",
        "    confidence_required=True\n",
        ")\n",
        "\n",
        "print(f\"Response: {result['response']}\")\n",
        "print(f\"\\nContext Count: {result['context_count']}\")\n",
        "print(f\"Similarity Scores: {result['similarity_scores']}\")"
      ]
    },
    {
      "cell_type": "markdown",
      "metadata": {
        "id": "zZIJI19uR6yz"
      },
      "source": [
        "#### ❓ Question #4:\n",
        "What prompting strategies could you use to make the LLM have a more thoughtful, detailed response?\n",
        "\n",
        "What is that strategy called?\n",
        "\n",
        "> NOTE: You can look through our [OpenAI Responses API](https://colab.research.google.com/drive/14SCfRnp39N7aoOx8ZxadWb0hAqk4lQdL?usp=sharing) notebook for an answer to this question if you get stuck!"
      ]
    },
    {
      "cell_type": "markdown",
      "metadata": {},
      "source": [
        "##### ✅ Answer:\n",
        "Use of **Message roles and instruction following**, choose a Reasoning model and switch to teh new Responses API."
      ]
    },
    {
      "cell_type": "markdown",
      "metadata": {},
      "source": [
        "### 🏗️ Activity #1:\n",
        "\n",
        "Enhance your RAG application in some way! \n",
        "\n",
        "Suggestions are: \n",
        "\n",
        "- Allow it to work with PDF files ✅\n",
        "- Implement a new distance metric ✅\n",
        "- Add metadata support to the vector database ✅\n",
        "- Use a different embedding model\n",
        "- Add the capability to ingest a YouTube link ✅\n",
        "\n",
        "While these are suggestions, you should feel free to make whatever augmentations you desire! If you shared an idea during Session 1, think about features you might need to incorporate for your use case! \n",
        "\n",
        "When you're finished making the augments to your RAG application - vibe check it against the old one - see if you can \"feel the improvement\"!\n",
        "\n",
        "> NOTE: These additions might require you to work within the `aimakerspace` library - that's expected!\n",
        "\n",
        "> NOTE: If you're not sure where to start - ask Cursor (CMD/CTRL+L) to guide you through the changes!"
      ]
    },
    {
      "cell_type": "markdown",
      "metadata": {},
      "source": [
        "#### Ingesting a PDF into the Vector DB"
      ]
    },
    {
      "cell_type": "markdown",
      "metadata": {},
      "source": [
        "1. Extract PDF content and convert it to Markdown format"
      ]
    },
    {
      "cell_type": "code",
      "execution_count": 31,
      "metadata": {},
      "outputs": [
        {
          "name": "stderr",
          "output_type": "stream",
          "text": [
            "2025-09-17 20:12:35,597 - INFO - detected formats: [<InputFormat.PDF: 'pdf'>]\n",
            "2025-09-17 20:12:35,638 - INFO - Going to convert document batch...\n",
            "2025-09-17 20:12:35,638 - INFO - Initializing pipeline for StandardPdfPipeline with options hash e647edf348883bed75367b22fbe60347\n",
            "2025-09-17 20:12:35,643 - INFO - Loading plugin 'docling_defaults'\n",
            "2025-09-17 20:12:35,644 - INFO - Registered picture descriptions: ['vlm', 'api']\n",
            "2025-09-17 20:12:35,648 - INFO - Loading plugin 'docling_defaults'\n",
            "2025-09-17 20:12:35,650 - INFO - Registered ocr engines: ['easyocr', 'ocrmac', 'rapidocr', 'tesserocr', 'tesseract']\n",
            "2025-09-17 20:12:35,809 - INFO - Accelerator device: 'mps'\n",
            "2025-09-17 20:12:38,152 - INFO - Accelerator device: 'mps'\n",
            "2025-09-17 20:12:39,197 - INFO - Accelerator device: 'mps'\n",
            "2025-09-17 20:12:39,820 - INFO - Processing document 2312.16171v2.pdf\n",
            "2025-09-17 20:12:53,902 - INFO - Finished converting document 2312.16171v2.pdf in 18.70 sec.\n"
          ]
        },
        {
          "name": "stdout",
          "output_type": "stream",
          "text": [
            "Saving Markdown content for 2312.16171v2 [source: https://arxiv.org/pdf/2312.16171]\n",
            "\n"
          ]
        }
      ],
      "source": [
        "from docling.document_converter import DocumentConverter\n",
        "from aimakerspace.text_utils import TextFileUtils\n",
        "\n",
        "# PDF used as sample: \"Principled Instructions Are All You Need for Questioning LLaMA-1/2, GPT-3.5/4\" paper.\n",
        "pdf_source = \"https://arxiv.org/pdf/2312.16171\"  # document per local path or URL\n",
        "converter = DocumentConverter()\n",
        "doc = converter.convert(pdf_source).document\n",
        "\n",
        "# Save PDF Content as Markdown\n",
        "data_path = \"data/\"\n",
        "text_file_utils = TextFileUtils(data_path)\n",
        "print(f\"Saving Markdown content for {doc.name} [source: {pdf_source}]\\n\")\n",
        "text_file_utils.save_file(doc.export_to_markdown(), doc.name + \".md.tmp\")"
      ]
    },
    {
      "cell_type": "markdown",
      "metadata": {},
      "source": [
        "2. Chunk the Markdown content"
      ]
    },
    {
      "cell_type": "code",
      "execution_count": 32,
      "metadata": {},
      "outputs": [
        {
          "name": "stdout",
          "output_type": "stream",
          "text": [
            "Document split into 26 chunks\n"
          ]
        }
      ],
      "source": [
        "from docling.chunking import HybridChunker\n",
        "import tiktoken\n",
        "from docling_core.transforms.chunker.tokenizer.openai import OpenAITokenizer\n",
        "\n",
        "tokenizer = OpenAITokenizer(\n",
        "    tokenizer=tiktoken.encoding_for_model(\"text-embedding-3-small\"),\n",
        "    max_tokens=8091,  # context window length required for OpenAI tokenizers\n",
        ")\n",
        "\n",
        "chunker = HybridChunker(tokenizer=tokenizer)\n",
        "chunk_iter = chunker.chunk(dl_doc=doc)\n",
        "chunks = [chunker.contextualize(chunk=chunk) for chunk in chunk_iter]\n",
        "print(f\"Document split into {len(chunks)} chunks\")\n",
        "# ser_txt = chunker.contextualize(chunk=chunks[0])\n",
        "# print(f\"Number of tokens in the 1st chunk: {len(ser_txt)}\")\n"
      ]
    },
    {
      "cell_type": "markdown",
      "metadata": {},
      "source": [
        "3. Insert chuncks into the Vector DB"
      ]
    },
    {
      "cell_type": "code",
      "execution_count": 33,
      "metadata": {},
      "outputs": [
        {
          "name": "stderr",
          "output_type": "stream",
          "text": [
            "2025-09-17 20:12:55,524 - INFO - HTTP Request: POST https://api.openai.com/v1/embeddings \"HTTP/1.1 200 OK\"\n"
          ]
        }
      ],
      "source": [
        "import asyncio\n",
        "from aimakerspace.vectordatabase import VectorDatabase\n",
        "\n",
        "vector_db = VectorDatabase()\n",
        "vector_db = await vector_db.abuild_from_list(chunks)"
      ]
    },
    {
      "cell_type": "markdown",
      "metadata": {},
      "source": [
        "4. Query the Vector DB"
      ]
    },
    {
      "cell_type": "code",
      "execution_count": 34,
      "metadata": {},
      "outputs": [
        {
          "name": "stderr",
          "output_type": "stream",
          "text": [
            "2025-09-17 20:12:56,190 - INFO - HTTP Request: POST https://api.openai.com/v1/embeddings \"HTTP/1.1 200 OK\"\n"
          ]
        },
        {
          "data": {
            "text/plain": [
              "[(\"3.2 Overview\\nThe overview of principles is presented in Table 1. According to their unique nature, we group them into five categories as in Table 2: (1) Prompt Structure and Clarity, e.g., integrate the intended audience in the prompt such as the audience is an expert in the field ; (2) Specificity and Information, e.g., Add to your prompt the following phrase 'Ensure that your answer is unbiased and does not rely on stereotypes. ' ; (3) User Interaction and Engagement, e.g., Allow the model to elicit precise details and requirements from you by asking you questions until he has enough information to provide the needed output 'From now on, I would like you to ask me questions to... '. (4) Content and Language Style, e.g., No need to be polite with LLM so there is no need to add phrases like 'please', 'if you don't mind', 'thank you', 'I would like to', etc., and get straight to the point ; (5) Complex Tasks and Coding Prompts, e.g., Break down complex tasks into a sequence of simpler prompts in an interactive conversation.\\nTable 1: Overview of 26 randomly ordered prompt principles.\\n\\n1, Prompt Principle for Instructions = If you prefer more concise answers, no need to be polite with LLM so there is no need to add phrases like 'please', 'if you don't mind', 'thank you', 'I would like to', etc., and get straight to the point.. 2, Prompt Principle for Instructions = Integrate the intended audience in the prompt, e.g., the audience is an expert in the field.. 3, Prompt Principle for Instructions = Break down complex tasks into a sequence of simpler prompts in an interactive conversation.. 4, Prompt Principle for Instructions = Employ affirmative directives such as ' do, ' while steering clear of negative language like ' don't '.. 5, Prompt Principle for Instructions = When you need clarity or a deeper understanding of a topic, idea, or any piece of information, utilize the following prompts: o Explain [insert specific topic] in simple terms. o Explain to me like I'm 11 years old. o Explain to me as if I'm a beginner in [field].. 6, Prompt Principle for Instructions = Add 'I'm going to tip $xxx for a better solution!'. 7, Prompt Principle for Instructions = Implement example-driven prompting (Use few-shot prompting).. 8, Prompt Principle for Instructions = When formatting your prompt, start with '###Instruction###', followed by either '###Example###' or '###Question###' if relevant. Subsequently, present your content. Use one or more line breaks to separate instructions, examples, questions, context, and input data.. 9, Prompt Principle for Instructions = Incorporate the following phrases: 'Your task is' and 'You MUST'.. 10, Prompt Principle for Instructions = Incorporate the following phrases: 'You will be penalized'.. 11, Prompt Principle for Instructions = Use the phrase 'Answer a question given in a natural, human-like manner' in your prompts.. 12, Prompt Principle for Instructions = Use leading words like writing 'think step by step'.. 13, Prompt Principle for Instructions = Add to your prompt the following phrase 'Ensure that your answer is unbiased and avoids relying on stereotypes.'. 14, Prompt Principle for Instructions = Allow the model to elicit precise details and requirements from you by asking you questions until he has enough information to provide the needed output (for example, 'From now on, I would like you to ask me questions to ...').. 15, Prompt Principle for Instructions = To inquire about a specific topic or idea or any information and you want to test your understanding, you can use the following phrase: 'Teach me any [theorem/topic/rule name] and include a test at the end, and let me know if my answers are correct after I respond, without providing the answers beforehand.'. 16, Prompt Principle for Instructions = Assign a role to the large language models.. 17, Prompt Principle for Instructions = Use Delimiters.. 18, Prompt Principle for Instructions = Repeat a specific word or phrase multiple times within a prompt.. 19, Prompt Principle for Instructions = Combine Chain-of-thought (CoT) with few-Shot prompts.. 20, Prompt Principle for Instructions = Use output primers, which involve concluding your prompt with the beginning of the desired output. Utilize output primers by ending your prompt with the start of the anticipated response.. 21, Prompt Principle for Instructions = To write an essay /text /paragraph /article or any type of text that should be detailed: 'Write a detailed [essay/text /paragraph] for me on [topic] in detail by adding all the information necessary'.. 22, Prompt Principle for Instructions = To correct/change specific text without changing its style: 'Try to revise every paragraph sent by users. You should only improve the user's grammar and vocabulary and make sure it sounds natural. You should maintain the original writing style, ensuring that a formal paragraph remains formal.'. 23, Prompt Principle for Instructions = When you have a complex coding prompt that may be in different files: 'From now and on whenever you generate code that spans more than one file, generate a [programming language ] script that can be run to automatically create the specified files or make changes to existing files to insert the generated code. [your question]'.. 24, Prompt Principle for Instructions = When you want to initiate or continue a text using specific words, phrases, or sentences, utilize the following prompt: o I'm providing you with the beginning [song lyrics/story/paragraph/essay...]: [Insert lyrics/words/sentence]. Finish it based on the words provided. Keep the flow consistent.. 25, Prompt Principle for Instructions = Clearly state the requirements that the model must follow in order to produce content, in the form of the keywords, regulations, hint, or instructions. 26, Prompt Principle for Instructions = To write any text, such as an essay or paragraph, that is intended to be similar to a provided sample, include the following instructions: o Use the same language based on the provided paragraph[/title/text /essay/answer].\\nTable 2: Prompt principle categories.\\n\\n, Principles = Integrate the intended audience in the prompt.. , #Principle = 2. , Principles = Employ affirmative directives such as 'do' while steering clear of negative language like 'don't'.. , #Principle = 4. , Principles = Use Leading words like writing 'think step by step.'. , #Principle = 12. Prompt Structure and Clarity, Principles = Use output primers, which involve concluding your prompt with the beginning of the desired output. by ending your prompt with the start of the anticipated response.. Prompt Structure and Clarity, #Principle = 20. , Principles = Use Delimiters.. , #Principle = 17. , Principles = When formatting your prompt, start with '###Instruction###', followed by either '###Example###' or '###Ques- tion###' if relevant. Subsequently, present your content. Use one or more line breaks to separate instructions, examples, questions, context, and input data.. , #Principle = 8. , Principles = Implement example-driven prompting (Use few-shot prompting).. , #Principle = 7. , Principles = When you need clarity or a deeper understanding of a topic, idea, or any piece of information, utilize the following prompts: o Explain [insert specific topic] in simple terms. o Explain to me like I'm 11 years old. o Explain to me as if I'm a beginner in [ field ].. , #Principle = 5. , Principles = Add to your prompt the following phrase 'Ensure that your answer is unbiased and avoids relying on stereotypes.'. , #Principle = 13. Specificity and Information, Principles = To write any text intended to be similar to a provided sample, include specific instructions: o 'Use the same language based on the provided paragraph [/title/text/essay/answer].'. Specificity and Information, #Principle = 26. , Principles = When you want to initiate or continue a text using specific words, phrases, or sentences, utilize the provided prompt structure: o I'm providing you with the beginning [song lyrics/story/paragraph/essay...]: [Insert lyrics/words/sentence]. Finish it based on the words provided. Keep the flow consistent.. , #Principle = 24. , Principles = Clearly state the model's requirements that the model must follow in order to produce content, in form of the keywords, regulations, hint, or instructions.. , #Principle = 25. , Principles = To inquire about a specific topic or idea and test your understanding g, you can use the following phrase [16]: o 'Teach me the [Any theorem/topic/rule name] and include a test at the end, and let me know if my answers are correct after I respond, without providing the answers beforehand.'. , #Principle = 15. , Principles = To write an essay/text/paragraph/article or any type of text that should be detailed: o 'Write a detailed [essay/text/paragraph] for me on [topic] in detail by adding all the information necessary.'. , #Principle = 21. User Interaction, Principles = Allow the model to elicit precise details and requirements from you by asking you questions until he has enough information to provide the needed output o 'From now on, I would like you to ask me questions to ...'. User Interaction, #Principle = 14. and Engagement, Principles = To write an essay /text /paragraph /article or any type of text that should be detailed: 'Write a detailed [essay/text/- paragraph] for me on [topic] in detail by adding all the necessary information.'. and Engagement, #Principle = 21. , Principles = To correct/change specific text without changing its style: 'Try to revise every paragraph sent by users. You should only improve the user's grammar and vocabulary and make sure it sounds natural. You should maintain the original writing style, ensuring that a formal paragraph remains formal.'. , #Principle = 22. , Principles = Incorporate the following phrases: 'Your task is' and 'You MUST.'. , #Principle = 9. , Principles = Incorporate the following phrases: 'You will be penalized.'. , #Principle = 10. Content and, Principles = Assign a role to the language model.. Content and, #Principle = 16. Language Style, Principles = Use the phrase 'Answer a question given in natural language form' in your prompts.. Language Style, #Principle = 11. , Principles = No need to be polite with LLM so there is no need to add phrases like 'please', 'if you don't mind', 'thank you', 'I would like to', etc., and get straight to the point.. , #Principle = 1. , Principles = Repeat a specific word or phrase multiple times within a prompt.. , #Principle = 18. , Principles = . , #Principle = 6. , Principles = Add 'I'm going to tip $xxx for a better solution!'. , #Principle = . , Principles = Break down complex tasks into a sequence of simpler prompts in an interactive conversation.. , #Principle = 3. Complex Tasks and Coding Prompts, Principles = When you have a complex coding prompt that may be in different files: o 'From now and on whenever you generate code that spans more than one file, generate a [programming language ] script that can be run to automatically create the specified files or make changes to existing files to insert the generated code. [your question].'. Complex Tasks and Coding Prompts, #Principle = 23. , Principles = Combine Chain-of-thought (Cot) with few-shot prompts.. , #Principle = 19\",\n",
              "  np.float64(0.41865705518174917)),\n",
              " (\"3.3 Design Principles\\nIn this study, a number of guiding principles are established for formulating prompts and instructions to elicit high-quality responses from pre-trained large language models: Conciseness and Clarity: Generally, overly verbose or ambiguous prompts can confuse the model or lead to irrelevant responses. Thus, the prompt should be concise, avoiding unnecessary information that does not contribute to the task while being specific enough to guide the model. This is the basic principle guidance for prompt engineering.\\nContextual Relevance: The prompt must provide relevant context that helps the model understand the background and domain of the task. Including keywords, domain-specific terminology, or situational descriptions can anchor the model's responses in the correct context. We highlight this design philosophy in our presented principles.\\nTask Alignment: The prompt should be closely aligned with the task at hand, using language and structure that clearly indicate the nature of the task to the model. This may involve phrasing the prompt as a question, a command, or a fill-in-the-blank statement that fits the task's expected input and output format.\\nExample Demonstrations: For more complex tasks, including examples within the prompt can demonstrate the desired format or type of response. This often involves showing input-output pairs, especially in 'few-shot' or 'zero-shot' learning scenarios. Avoiding Bias: Prompts should be designed to minimize the activation of biases inherent in the model due to its training data. Use neutral language and be mindful of potential ethical implications, especially for sensitive topics.\\nIncremental Prompting: For tasks that require a sequence of steps, prompts can be structured to guide the model through the process incrementally. Break down the task into a series of prompts that build upon each other, guiding the model step-by-step. Also, prompts should be adjustable based on the performance of the model and iterative feedback, i.e., it needs to be well prepared to refine the prompt based on initial outputs and model behaviors. Moreover, prompts should be adjustable based on the performance and response of the model, and iterative human feedback and preference.\\nFinally, more advanced prompts may incorporate programming-like logic to achieve complex tasks. For instance, use of conditional statements, logical operators, or even pseudo-code within the prompt to guide the model's reasoning process. The design of prompts is an evolving field, especially as LLMs become more sophisticated. As researchers continue to explore the limits of what can be achieved through prompt engineering, these principles will likely be refined and expanded.\",\n",
              "  np.float64(0.40493732857145553)),\n",
              " (\"1 Introduction\\n- ' Prompt engineering is the art of communicating with a generative large language model.\\nChatGPT, 2023\\nLarge language models (LLMs) like ChatGPT [13] have shown impressive abilities in various domains and tasks, such as answering questions [7], mathematical reasoning [5], code generating [11, 9], etc. However, their application and usage, especially on designing the optimal instructions or prompts, can sometimes be unclear to the common users. In this work, we aim to reveal these mysteries for developers or general users when inquiring and interacting with LLMs, and further enhance the quality of the responses from the pretrained LLMs by simply curating better prompts.\\nGiven that directly fine-tuning LLMs for particular tasks tends to be impractical or unattainable for the majority of users and developers due to inefficiency, the research community has turned its attention to the optimization of prompts. The technique of prompt engineering, which entails the crafting of precise, task-specific instructions in\\n'\\nFigure 1: Illustration example of prompts and corresponding responses before and after applying principles. Left is the original promotes and their responses from GPT-4, right is the principled prompts and the associated responses. Principles 5 and 6 are utilized.\\nnatural language, either manually or through automated means, and the careful selection of representative examples for inclusion in the prompt, has become a central area of investigation for LLMs. Despite these dedicated efforts, the task of reliably guiding LLMs to produce specific responses and making full use of the capability of pretrained LLMs continues to pose a considerable challenge.\\nIn this work, we present comprehensive principled instructions to improve the quality of prompts for LLMs. Specifically, we investigate a wide range of behaviors when feeding into different types and formulations of prompts, such as integrating the intended audience in the prompt, e.g., add ' the audience is an expert in the field ', or ' the audience is the 5-year-old child ', as well as other multiple aspects of the characteristics of LLMs. Our findings indicate that larger models possess a considerable capacity for simulation. The more precise the task or directive provided, the more effectively the model performs, aligning its responses more closely with our expectations. This suggests that LLMs do not merely memorize training data but are capable of adapting this information to suit varying prompts, even when the core inquiries remain constant. Therefore, it proves beneficial to assign a specific role to LLMs as a means to elicit outputs that better match our intended results.\\nWe elaborate the principled instructions for LLM prompting, provide further motivation, and detail several specific designing principles in Section 3. In Section 4 we show experimentally that the proposed principles can produce higher quality, more concise, factual and less complicated or intricate responses than standard prompts for LLMs. Specifically, with the manually-designed ATLAS benchmark, which includes multiple questions for each principle, the specialized prompts we introduced have enhanced both the quality and accuracy of the LLM responses by an average of 57.7% and 36.4%, respectively, when applied to GPT-4. Furthermore, the improvements are more pronounced with the increase in model size, for example, the performance gains when moving from LLaMA-2-7B to GPT-4 exceed 20%.\",\n",
              "  np.float64(0.39111824486154667))]"
            ]
          },
          "execution_count": 34,
          "metadata": {},
          "output_type": "execute_result"
        }
      ],
      "source": [
        "vector_db.search_by_text(\"Which is the intended audience in the prompt?\", k=3)"
      ]
    },
    {
      "cell_type": "markdown",
      "metadata": {},
      "source": [
        "5. Create a RAG Pipeline using our extracted PDF contentas data source"
      ]
    },
    {
      "cell_type": "code",
      "execution_count": 35,
      "metadata": {},
      "outputs": [
        {
          "name": "stderr",
          "output_type": "stream",
          "text": [
            "2025-09-17 20:12:56,654 - INFO - HTTP Request: POST https://api.openai.com/v1/embeddings \"HTTP/1.1 200 OK\"\n",
            "2025-09-17 20:13:22,971 - INFO - HTTP Request: POST https://api.openai.com/v1/chat/completions \"HTTP/1.1 200 OK\"\n"
          ]
        },
        {
          "name": "stdout",
          "output_type": "stream",
          "text": [
            "Response: Based on the provided context, the 26 prompt principles for instructions as outlined and presented in Table 1 (Source 1) are as follows:\n",
            "\n",
            "1. If you prefer more concise answers, no need to be polite with LLM so there is no need to add phrases like \"please\", \"if you don't mind\", \"thank you\", \"I would like to\", etc., and get straight to the point.\n",
            "2. Integrate the intended audience in the prompt, e.g., the audience is an expert in the field.\n",
            "3. Break down complex tasks into a sequence of simpler prompts in an interactive conversation.\n",
            "4. Employ affirmative directives such as \"do,\" while steering clear of negative language like \"don't.\"\n",
            "5. When you need clarity or a deeper understanding of a topic, idea, or any piece of information, utilize prompts such as:\n",
            "   - Explain [insert specific topic] in simple terms.\n",
            "   - Explain to me like I'm 11 years old.\n",
            "   - Explain to me as if I'm a beginner in [field].\n",
            "6. Add \"I'm going to tip $xxx for a better solution!\"\n",
            "7. Implement example-driven prompting (Use few-shot prompting).\n",
            "8. When formatting your prompt, start with \"###Instruction###,\" followed by either \"###Example###\" or \"###Question###\" if relevant. Use one or more line breaks to separate instructions, examples, questions, context, and input data.\n",
            "9. Incorporate the following phrases: \"Your task is\" and \"You MUST.\"\n",
            "10. Incorporate the following phrases: \"You will be penalized.\"\n",
            "11. Use the phrase \"Answer a question given in a natural, human-like manner\" in your prompts.\n",
            "12. Use leading words like writing \"think step by step.\"\n",
            "13. Add to your prompt the phrase \"Ensure that your answer is unbiased and avoids relying on stereotypes.\"\n",
            "14. Allow the model to elicit precise details and requirements from you by asking you questions until it has enough information to provide the needed output (e.g., \"From now on, I would like you to ask me questions to ...\").\n",
            "15. To inquire about a specific topic or idea and test your understanding, use the phrase: \"Teach me any [theorem/topic/rule name] and include a test at the end, and let me know if my answers are correct after I respond, without providing the answers beforehand.\"\n",
            "16. Assign a role to the language model.\n",
            "17. Use Delimiters.\n",
            "18. Repeat a specific word or phrase multiple times within a prompt.\n",
            "19. Combine Chain-of-thought (CoT) with few-shot prompts.\n",
            "20. Use output primers, which involve concluding your prompt with the beginning of the desired output. End your prompt with the start of the anticipated response.\n",
            "21. To write an essay/text/paragraph/article or any type of text that should be detailed: \"Write a detailed [essay/text/paragraph] for me on [topic] in detail by adding all the information necessary.\"\n",
            "22. To correct/change specific text without changing its style: \"Try to revise every paragraph sent by users. You should only improve the user's grammar and vocabulary and make sure it sounds natural. You should maintain the original writing style, ensuring that a formal paragraph remains formal.\"\n",
            "23. When you have a complex coding prompt that may be in different files: \"From now on whenever you generate code that spans more than one file, generate a [programming language] script that can be run to automatically create the specified files or make changes to existing files to insert the generated code. [your question]\"\n",
            "24. When you want to initiate or continue a text using specific words, phrases, or sentences, utilize the prompt: \"I'm providing you with the beginning [song lyrics/story/paragraph/essay...]: [Insert lyrics/words/sentence]. Finish it based on the words provided. Keep the flow consistent.\"\n",
            "25. Clearly state the requirements that the model must follow in order to produce content, in the form of keywords, regulations, hints, or instructions.\n",
            "26. To write any text, such as an essay or paragraph, that is intended to be similar to a provided sample, include the instruction: \"Use the same language based on the provided paragraph[/title/text/essay/answer].\"\n",
            "\n",
            "These principles are categorized into five groups (Table 2 in Source 1):\n",
            "- Prompt Structure and Clarity (e.g., principles 1, 2, 3, 4, 5, 7, 8, 12, 13, 17, 20)\n",
            "- Specificity and Information (e.g., principles 13, 24, 25, 26)\n",
            "- User Interaction and Engagement (e.g., principles 14, 21, 22, 9, 10)\n",
            "- Content and Language Style (e.g., principles 16, 11, 1, 18)\n",
            "- Complex Tasks and Coding Prompts (e.g., principles 3, 23, 19)\n",
            "\n",
            "This comprehensive list reflects the main guiding principles designed to streamline and optimize the process of formulating prompts and instructions for large language models.\n",
            "\n",
            "Context Count: 3\n",
            "Similarity Scores: ['Source 1: 0.650', 'Source 2: 0.519', 'Source 3: 0.500']\n"
          ]
        }
      ],
      "source": [
        "rag_pipeline = RetrievalAugmentedQAPipeline(\n",
        "    vector_db_retriever=vector_db,\n",
        "    llm=chat_openai,\n",
        "    response_style=\"detailed\",\n",
        "    include_scores=True\n",
        ")\n",
        "\n",
        "result = rag_pipeline.run_pipeline(\n",
        "    \"List the 26 ordered prompt principles contained in the document\",\n",
        "    k=3,\n",
        "    response_length=\"comprehensive\", \n",
        "    include_warnings=True,\n",
        "    confidence_required=True\n",
        ")\n",
        "\n",
        "print(f\"Response: {result['response']}\")\n",
        "print(f\"\\nContext Count: {result['context_count']}\")\n",
        "print(f\"Similarity Scores: {result['similarity_scores']}\")"
      ]
    },
    {
      "cell_type": "markdown",
      "metadata": {},
      "source": [
        "#### Ingesting a YouTube video into the Vector DB"
      ]
    },
    {
      "cell_type": "code",
      "execution_count": 36,
      "metadata": {},
      "outputs": [
        {
          "name": "stderr",
          "output_type": "stream",
          "text": [
            "2025-09-17 20:13:23,275 - INFO - Initializing YouTubeProcessor with Whisper model: base\n",
            "2025-09-17 20:13:23,825 - INFO - ✅ ffmpeg available at: /opt/homebrew/bin/ffmpeg\n",
            "2025-09-17 20:13:23,826 - INFO - ✅ ffprobe available at: /opt/homebrew/bin/ffprobe\n",
            "2025-09-17 20:13:23,826 - INFO - Starting YouTube video ingestion for: https://www.youtube.com/watch?v=aircAruvnKk\n",
            "2025-09-17 20:13:23,826 - INFO - Using chunk duration: 30 seconds\n",
            "2025-09-17 20:13:23,826 - INFO - Creating video segments for: https://www.youtube.com/watch?v=aircAruvnKk\n"
          ]
        },
        {
          "name": "stdout",
          "output_type": "stream",
          "text": [
            "Ingesting YouTube video...\n"
          ]
        },
        {
          "name": "stderr",
          "output_type": "stream",
          "text": [
            "2025-09-17 20:13:27,404 - INFO - Downloading audio...\n",
            "2025-09-17 20:13:27,405 - INFO - Starting audio download for URL: https://www.youtube.com/watch?v=aircAruvnKk\n",
            "2025-09-17 20:13:27,406 - INFO - Extracting video metadata...\n",
            "2025-09-17 20:13:29,749 - INFO - Video title: But what is a neural network? | Deep learning chapter 1\n",
            "2025-09-17 20:13:29,751 - INFO - Audio file already exists, using existing file: data/temp_audio/But-what-is-a-neural-network-Deep-learning-chapter-1.wav\n",
            "2025-09-17 20:13:29,751 - INFO - Transcribing audio...\n",
            "2025-09-17 20:13:29,751 - INFO - Starting audio transcription for: data/temp_audio/But-what-is-a-neural-network-Deep-learning-chapter-1.wav\n",
            "2025-09-17 20:13:29,751 - INFO - Transcribing with Whisper model: base\n",
            "/Users/rsoares/dev/github/rafaeltuelho/AIE8/02_Embeddings_and_RAG/.venv/lib/python3.11/site-packages/whisper/transcribe.py:132: UserWarning: FP16 is not supported on CPU; using FP32 instead\n",
            "  warnings.warn(\"FP16 is not supported on CPU; using FP32 instead\")\n",
            "2025-09-17 20:14:23,435 - INFO - Whisper transcription completed\n",
            "2025-09-17 20:14:23,435 - INFO - Processing transcription segments...\n",
            "2025-09-17 20:14:23,437 - INFO - Transcription completed successfully with 191 segments\n",
            "2025-09-17 20:14:23,438 - INFO - Created 45 video segments from transcription\n",
            "2025-09-17 20:14:23,856 - INFO - HTTP Request: POST https://api.openai.com/v1/embeddings \"HTTP/1.1 200 OK\"\n",
            "2025-09-17 20:14:23,992 - INFO - Inserting segments and embeddings into vector database...\n",
            "2025-09-17 20:14:23,996 - INFO - Ingestion completed successfully: 45 segments ingested\n",
            "2025-09-17 20:14:23,996 - INFO - Video: But what is a neural network? | Deep learning chapter 1 (ID: aircAruvnKk)\n",
            "2025-09-17 20:14:23,997 - INFO - Total duration: 1121.0 seconds\n"
          ]
        },
        {
          "name": "stdout",
          "output_type": "stream",
          "text": [
            "✅ Ingested 45 segments\n",
            "▶️ Video: But what is a neural network? | Deep learning chapter 1\n",
            "⏱️  Duration: 1121.0 seconds\n"
          ]
        }
      ],
      "source": [
        "# First, install required packages:\n",
        "# pip install yt-dlp openai-whisper\n",
        "\n",
        "import asyncio\n",
        "import shutil\n",
        "import os\n",
        "from aimakerspace.youtube_utils import YouTubeProcessor\n",
        "from aimakerspace.vectordatabase import VectorDatabase\n",
        "\n",
        "# Example YouTube URL (replace with actual video)\n",
        "YT_VIDEO_URL = \"https://www.youtube.com/watch?v=aircAruvnKk\"\n",
        "\n",
        "async def build_youtube_db(video_url: str):\n",
        "    # Create vector database and YouTube processor\n",
        "    vector_db = VectorDatabase()\n",
        "    processor = YouTubeProcessor()\n",
        "\n",
        "    # Ingest the video (this will download, transcribe, and embed)\n",
        "    print(\"Ingesting YouTube video...\")\n",
        "    result = await processor.ingest_youtube_video(vector_db, video_url, chunk_duration=30)\n",
        "    \n",
        "    print(f\"✅ Ingested {result['segments_ingested']} segments\")\n",
        "    print(f\"▶️ Video: {result['video_title']}\")\n",
        "    print(f\"⏱️  Duration: {result['total_duration']:.1f} seconds\")\n",
        "    \n",
        "    return vector_db\n",
        "    \n",
        "# Run the demo\n",
        "youtube_db = await build_youtube_db(YT_VIDEO_URL)\n"
      ]
    },
    {
      "cell_type": "markdown",
      "metadata": {},
      "source": [
        "2. Query the Vector DB"
      ]
    },
    {
      "cell_type": "code",
      "execution_count": 37,
      "metadata": {},
      "outputs": [
        {
          "name": "stdout",
          "output_type": "stream",
          "text": [
            "\n",
            "🔍 Searching for: 'What is a layer in a neural network?'\n"
          ]
        },
        {
          "name": "stderr",
          "output_type": "stream",
          "text": [
            "2025-09-17 20:14:24,458 - INFO - HTTP Request: POST https://api.openai.com/v1/embeddings \"HTTP/1.1 200 OK\"\n"
          ]
        },
        {
          "name": "stdout",
          "output_type": "stream",
          "text": [
            "\n",
            "--- Result 1 ---\n",
            "📝 Text: of the next layer. And of course, the heart of the network, as an information processing mechanism, comes down to exactly how those activations from o...\n",
            "⏰ Time: 275.0s - 305.0s\n",
            "🎯 Relevance: 0.627\n",
            "🔗 Video timestamp: https://www.youtube.com/watch?v=aircAruvnKk&t=275.0s\n",
            "\n",
            "--- Result 2 ---\n",
            "📝 Text: you feed in. So it's actually more accurate to think of each neuron as a function, one that takes in the outputs of all the neurons in the previous la...\n",
            "⏰ Time: 925.0s - 955.0s\n",
            "🎯 Relevance: 0.568\n",
            "🔗 Video timestamp: https://www.youtube.com/watch?v=aircAruvnKk&t=925.0s\n",
            "\n",
            "--- Result 3 ---\n",
            "📝 Text: Then organize all of the weights as a matrix, where each row of that matrix corresponds to the connections between one layer and a particular neuron i...\n",
            "⏰ Time: 825.0s - 855.0s\n",
            "🎯 Relevance: 0.555\n",
            "🔗 Video timestamp: https://www.youtube.com/watch?v=aircAruvnKk&t=825.0s\n"
          ]
        }
      ],
      "source": [
        "# Search for relevant content\n",
        "query = \"What is a layer in a neural network?\"\n",
        "print(f\"\\n🔍 Searching for: '{query}'\")\n",
        "\n",
        "results = youtube_db.search_with_metadata(query, k=3)\n",
        "\n",
        "for i, result in enumerate(results, 1):\n",
        "    print(f\"\\n--- Result {i} ---\")\n",
        "    print(f\"📝 Text: {result['text'][:150]}...\")\n",
        "    print(f\"⏰ Time: {result['start_time']:.1f}s - {result['end_time']:.1f}s\")\n",
        "    print(f\"🎯 Relevance: {result['similarity_score']:.3f}\")\n",
        "    print(f\"🔗 Video timestamp: {YT_VIDEO_URL}&t={result['start_time']}s\")"
      ]
    },
    {
      "cell_type": "markdown",
      "metadata": {},
      "source": [
        "3. Create a RAG Pipeline using our Video transcription"
      ]
    },
    {
      "cell_type": "code",
      "execution_count": 42,
      "metadata": {},
      "outputs": [
        {
          "name": "stderr",
          "output_type": "stream",
          "text": [
            "2025-09-17 20:20:49,629 - INFO - HTTP Request: POST https://api.openai.com/v1/embeddings \"HTTP/1.1 200 OK\"\n",
            "2025-09-17 20:24:16,069 - INFO - HTTP Request: POST https://api.openai.com/v1/chat/completions \"HTTP/1.1 200 OK\"\n"
          ]
        },
        {
          "name": "stdout",
          "output_type": "stream",
          "text": [
            "Response: Layers in a neural network are structured groups of neurons (or functions) where the activations (outputs) from one layer influence the activations of the next layer. Each neuron can be considered as a function that takes in the outputs from all neurons in the previous layer and produces a number between 0 and 1. Collectively, the entire network functions as a complex function that takes an input (e.g., 784 numbers representing an image) and outputs a result (e.g., 10 numbers corresponding to digit predictions) [Source 1, Source 2]. The layered structure is meant to be loosely analogous to biological neural networks, where some neurons firing cause others to fire, enabling the network to process information progressively across layers [Source 1].\n",
            "\n",
            "Context Count: 3\n",
            "Similarity Scores: ['Source 1: 0.610', 'Source 2: 0.558', 'Source 3: 0.552']\n"
          ]
        }
      ],
      "source": [
        "rag_pipeline = RetrievalAugmentedQAPipeline(\n",
        "    vector_db_retriever=youtube_db,\n",
        "    search_with_metadata=True,\n",
        "    llm=chat_openai,\n",
        "    response_style=\"detailed\",\n",
        "    include_scores=True\n",
        ")\n",
        "\n",
        "result = rag_pipeline.run_pipeline(\n",
        "    \"what are Layers in a neural network?\",\n",
        "    k=3,\n",
        "    response_length=\"comprehensive\", \n",
        "    include_warnings=True,\n",
        "    confidence_required=True\n",
        ")\n",
        "\n",
        "print(f\"Response: {result['response']}\")\n",
        "print(f\"\\nContext Count: {result['context_count']}\")\n",
        "print(f\"Similarity Scores: {result['similarity_scores']}\")"
      ]
    }
  ],
  "metadata": {
    "colab": {
      "provenance": []
    },
    "kernelspec": {
      "display_name": ".venv",
      "language": "python",
      "name": "python3"
    },
    "language_info": {
      "codemirror_mode": {
        "name": "ipython",
        "version": 3
      },
      "file_extension": ".py",
      "mimetype": "text/x-python",
      "name": "python",
      "nbconvert_exporter": "python",
      "pygments_lexer": "ipython3",
      "version": "3.11.11"
    },
    "orig_nbformat": 4
  },
  "nbformat": 4,
  "nbformat_minor": 0
}
